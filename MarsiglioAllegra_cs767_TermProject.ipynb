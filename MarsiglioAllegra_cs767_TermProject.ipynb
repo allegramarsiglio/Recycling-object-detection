{
  "nbformat": 4,
  "nbformat_minor": 0,
  "metadata": {
    "colab": {
      "provenance": [],
      "machine_shape": "hm",
      "gpuType": "T4"
    },
    "kernelspec": {
      "name": "python3",
      "display_name": "Python 3"
    },
    "language_info": {
      "name": "python"
    },
    "accelerator": "GPU"
  },
  "cells": [
    {
      "cell_type": "code",
      "execution_count": 1,
      "metadata": {
        "id": "YJs6TrJA2LJl"
      },
      "outputs": [],
      "source": [
        "\"\"\"\n",
        "Allegra Marsiglio\n",
        "CS767 TERM PROJECT\n",
        "\"\"\"\n",
        "\n",
        "import cv2\n",
        "import numpy as np\n",
        "import pandas as pd\n",
        "from matplotlib import pyplot as plt\n",
        "import cv2\n",
        "import glob\n",
        "import tensorflow as tf\n",
        "from tensorflow import keras\n",
        "from collections import defaultdict"
      ]
    },
    {
      "cell_type": "code",
      "source": [
        "from google.colab import drive\n",
        "drive.mount('/content/drive')"
      ],
      "metadata": {
        "colab": {
          "base_uri": "https://localhost:8080/"
        },
        "id": "mIfPfEcN2Niz",
        "outputId": "a9e389b5-a9be-4c25-de7d-9fe8e49f67ab"
      },
      "execution_count": 2,
      "outputs": [
        {
          "output_type": "stream",
          "name": "stdout",
          "text": [
            "Drive already mounted at /content/drive; to attempt to forcibly remount, call drive.mount(\"/content/drive\", force_remount=True).\n"
          ]
        }
      ]
    },
    {
      "cell_type": "markdown",
      "source": [
        "# Train data"
      ],
      "metadata": {
        "id": "iWXi8iBj_yDz"
      }
    },
    {
      "cell_type": "code",
      "source": [
        "## LOAD IMAGES\n",
        "\n",
        "# Initialize a dictionary to store the images with filenames as keys\n",
        "images_train = {}\n",
        "images_folder_path = '/content/drive/MyDrive/train/'\n",
        "\n",
        "# Load the images from the 'train' folder using OpenCV and store them in the dictionary\n",
        "for file_path in glob.glob(images_folder_path + '*.jpg'):\n",
        "    file_name = file_path.split('/')[-1]  # Extract the filename from the full path\n",
        "    images_train[file_name] = cv2.imread(file_path)\n"
      ],
      "metadata": {
        "id": "OPCg5RW62W7t"
      },
      "execution_count": 3,
      "outputs": []
    },
    {
      "cell_type": "code",
      "source": [
        "# Load the annotations CSV file\n",
        "annotations_path = '/content/drive/MyDrive/train_annotations.csv'\n",
        "annotations_df = pd.read_csv(annotations_path)\n",
        "\n",
        "# Define the classes (plastic, glass, metal)\n",
        "classes = ['plastic', 'glass', 'metal']\n",
        "\n",
        "# Define the number of bounding boxes to predict per image\n",
        "num_boxes = 5\n",
        "\n",
        "def convert_to_output_format(annotations_df, classes, num_boxes):\n",
        "    image_dict = {}\n",
        "\n",
        "    for _, row in annotations_df.iterrows():\n",
        "        filename = row['filename']\n",
        "        class_name = row['class']\n",
        "        xmin = row['xmin']\n",
        "        ymin = row['ymin']\n",
        "        xmax = row['xmax']\n",
        "        ymax = row['ymax']\n",
        "        width = row['width']\n",
        "        height = row['height']\n",
        "\n",
        "        # Normalize bounding box coordinates\n",
        "        bx = xmin / width\n",
        "        by = ymin / height\n",
        "        bw = (xmax - xmin) / width\n",
        "        bh = (ymax - ymin) / height\n",
        "\n",
        "        if filename not in image_dict:\n",
        "            # Initialize entry for the filename\n",
        "            image_dict[filename] = {\n",
        "                'class_probs': np.zeros((num_boxes, len(classes))),\n",
        "                'boxes': np.zeros((num_boxes, 4))\n",
        "            }\n",
        "\n",
        "        # Find an available slot to store the bounding box information\n",
        "        for box_idx in range(num_boxes):\n",
        "            if np.sum(image_dict[filename]['class_probs'][box_idx]) == 0:\n",
        "                class_idx = classes.index(class_name)\n",
        "                image_dict[filename]['class_probs'][box_idx, class_idx] = 1.0\n",
        "                image_dict[filename]['boxes'][box_idx] = [bx, by, bw, bh]\n",
        "                break\n",
        "\n",
        "    return image_dict\n",
        "\n",
        "# Convert the annotations to the desired output format\n",
        "output_dict = convert_to_output_format(annotations_df, classes, num_boxes)\n",
        "\n",
        "# Now, `output_dict` contains the predicted class scores and bounding box coordinates\n",
        "# for each image in the format described earlier.\n"
      ],
      "metadata": {
        "id": "9SsgXRHE2k3A"
      },
      "execution_count": 4,
      "outputs": []
    },
    {
      "cell_type": "code",
      "source": [
        "# Clean data from files that are in anotations but no images and vice versa\n",
        "output_dict = {key: output_dict[key] for key in output_dict if key in images_train}\n",
        "images_train = {key: images_train[key] for key in images_train if key in output_dict}"
      ],
      "metadata": {
        "id": "RCudFfxP2zAB"
      },
      "execution_count": 5,
      "outputs": []
    },
    {
      "cell_type": "code",
      "source": [
        "print(len(output_dict), len(images_train))"
      ],
      "metadata": {
        "colab": {
          "base_uri": "https://localhost:8080/"
        },
        "id": "ViKooVqcL4LK",
        "outputId": "24b74be8-bc92-4b26-b287-7bfd0ad5ca52"
      },
      "execution_count": 6,
      "outputs": [
        {
          "output_type": "stream",
          "name": "stdout",
          "text": [
            "6075 6075\n"
          ]
        }
      ]
    },
    {
      "cell_type": "code",
      "source": [
        "def preprocess_input_images(input_data):\n",
        "    preprocessed_images = []\n",
        "    for filename, image_data in input_data.items():\n",
        "        img = image_data\n",
        "        img = cv2.resize(img, (224, 224))\n",
        "        img = img.astype(np.float32) / 255.0  # Normalize pixel values to [0, 1]\n",
        "        preprocessed_images.append(img)\n",
        "\n",
        "    preprocessed_images = np.array(preprocessed_images)\n",
        "    return preprocessed_images\n",
        "\n",
        "def preprocess_output_data(output_data):\n",
        "    # Initialize arrays to hold the class probabilities and boxes\n",
        "    max_detections = 5\n",
        "    num_classes = 3\n",
        "    class_probs_array = np.zeros((len(output_data), max_detections, num_classes))\n",
        "    boxes_array = np.zeros((len(output_data), max_detections, 4))\n",
        "\n",
        "    for i, filename in enumerate(output_data.keys()):\n",
        "        class_probs = output_data[filename]['class_probs']\n",
        "        boxes = output_data[filename]['boxes']\n",
        "\n",
        "        # Store the class probabilities and boxes in the respective arrays\n",
        "        num_detections = min(max_detections, len(class_probs))\n",
        "        class_probs_array[i, :num_detections] = class_probs[:num_detections]\n",
        "        boxes_array[i, :num_detections] = boxes[:num_detections]\n",
        "\n",
        "    return class_probs_array, boxes_array"
      ],
      "metadata": {
        "id": "_rG3OOUW3XP3"
      },
      "execution_count": 7,
      "outputs": []
    },
    {
      "cell_type": "code",
      "source": [
        "# Assuming you have 'input_data' and 'output_data' as your input and output data, respectively.\n",
        "# Also, 'num_classes' should be set to the number of classes in your dataset.\n",
        "\n",
        "# Preprocess input images\n",
        "preprocessed_images_train = preprocess_input_images(images_train)\n",
        "\n",
        "# Preprocess output data\n",
        "class_probs_array_train, boxes_array_train = preprocess_output_data(output_dict)\n",
        "\n",
        "# Train the VGG16-based object detection model\n",
        "# Now you can use 'preprocessed_images' as input and 'class_probs_array' and 'boxes_array' as output for training the model."
      ],
      "metadata": {
        "id": "jhmdKiLs3gax"
      },
      "execution_count": 8,
      "outputs": []
    },
    {
      "cell_type": "markdown",
      "source": [
        "# Validation data"
      ],
      "metadata": {
        "id": "6v2u4ILiAXlI"
      }
    },
    {
      "cell_type": "code",
      "source": [
        "## LOAD IMAGES\n",
        "\n",
        "# Initialize a dictionary to store the images with filenames as keys\n",
        "images_valid = {}\n",
        "images_folder_path = '/content/drive/MyDrive/valid/'\n",
        "\n",
        "# Load the images from the 'valid' folder using OpenCV and store them in the dictionary\n",
        "for file_path in glob.glob(images_folder_path + '*.jpg'):\n",
        "    file_name = file_path.split('/')[-1]  # Extract the filename from the full path\n",
        "    images_valid[file_name] = cv2.imread(file_path)\n"
      ],
      "metadata": {
        "id": "j9oJw6acAdVD"
      },
      "execution_count": 9,
      "outputs": []
    },
    {
      "cell_type": "code",
      "source": [
        "# Load the annotations CSV file\n",
        "annotations_path = '/content/drive/MyDrive/valid_annotations.csv'\n",
        "annotations_df = pd.read_csv(annotations_path)\n",
        "\n",
        "# Define the classes (plastic, glass, metal)\n",
        "classes = ['plastic', 'glass', 'metal']\n",
        "\n",
        "# Define the number of bounding boxes to predict per image\n",
        "num_boxes = 5\n",
        "\n",
        "def convert_to_output_format(annotations_df, classes, num_boxes):\n",
        "    image_dict = {}\n",
        "\n",
        "    for _, row in annotations_df.iterrows():\n",
        "        filename = row['filename']\n",
        "        class_name = row['class']\n",
        "        xmin = row['xmin']\n",
        "        ymin = row['ymin']\n",
        "        xmax = row['xmax']\n",
        "        ymax = row['ymax']\n",
        "        width = row['width']\n",
        "        height = row['height']\n",
        "\n",
        "        # Normalize bounding box coordinates\n",
        "        bx = xmin / width\n",
        "        by = ymin / height\n",
        "        bw = (xmax - xmin) / width\n",
        "        bh = (ymax - ymin) / height\n",
        "\n",
        "        if filename not in image_dict:\n",
        "            # Initialize entry for the filename\n",
        "            image_dict[filename] = {\n",
        "                'class_probs': np.zeros((num_boxes, len(classes))),\n",
        "                'boxes': np.zeros((num_boxes, 4))\n",
        "            }\n",
        "\n",
        "        # Find an available slot to store the bounding box information\n",
        "        for box_idx in range(num_boxes):\n",
        "            if np.sum(image_dict[filename]['class_probs'][box_idx]) == 0:\n",
        "                class_idx = classes.index(class_name)\n",
        "                image_dict[filename]['class_probs'][box_idx, class_idx] = 1.0\n",
        "                image_dict[filename]['boxes'][box_idx] = [bx, by, bw, bh]\n",
        "                break\n",
        "\n",
        "    return image_dict\n",
        "\n",
        "# Convert the annotations to the desired output format\n",
        "output_dict = convert_to_output_format(annotations_df, classes, num_boxes)\n",
        "\n",
        "# Now, `output_dict` contains the predicted class scores and bounding box coordinates\n",
        "# for each image in the format described earlier.\n"
      ],
      "metadata": {
        "id": "j6eCJqtIAdVD"
      },
      "execution_count": 10,
      "outputs": []
    },
    {
      "cell_type": "code",
      "source": [
        "# Clean data from files that are in anotations but no images and vice versa\n",
        "output_dict = {key: output_dict[key] for key in output_dict if key in images_valid}\n",
        "images_valid = {key: images_valid[key] for key in images_valid if key in output_dict}"
      ],
      "metadata": {
        "id": "XwYgbWOZAdVE"
      },
      "execution_count": 11,
      "outputs": []
    },
    {
      "cell_type": "code",
      "source": [
        "print(len(output_dict), len(images_valid))"
      ],
      "metadata": {
        "colab": {
          "base_uri": "https://localhost:8080/"
        },
        "id": "F9T5u-b_MQfB",
        "outputId": "c13d2f42-dc9f-4af1-f913-d4d955f8fcf5"
      },
      "execution_count": 12,
      "outputs": [
        {
          "output_type": "stream",
          "name": "stdout",
          "text": [
            "1953 1953\n"
          ]
        }
      ]
    },
    {
      "cell_type": "code",
      "source": [
        "def preprocess_input_images(input_data):\n",
        "    preprocessed_images = []\n",
        "    for filename, image_data in input_data.items():\n",
        "        img = image_data\n",
        "        img = cv2.resize(img, (224, 224))\n",
        "        img = img.astype(np.float32) / 255.0  # Normalize pixel values to [0, 1]\n",
        "        preprocessed_images.append(img)\n",
        "\n",
        "    preprocessed_images = np.array(preprocessed_images)\n",
        "    return preprocessed_images\n",
        "\n",
        "def preprocess_output_data(output_data):\n",
        "    # Initialize arrays to hold the class probabilities and boxes\n",
        "    max_detections = 5\n",
        "    num_classes = 3\n",
        "    class_probs_array = np.zeros((len(output_data), max_detections, num_classes))\n",
        "    boxes_array = np.zeros((len(output_data), max_detections, 4))\n",
        "\n",
        "    for i, filename in enumerate(output_data.keys()):\n",
        "        class_probs = output_data[filename]['class_probs']\n",
        "        boxes = output_data[filename]['boxes']\n",
        "\n",
        "        # Store the class probabilities and boxes in the respective arrays\n",
        "        num_detections = min(max_detections, len(class_probs))\n",
        "        class_probs_array[i, :num_detections] = class_probs[:num_detections]\n",
        "        boxes_array[i, :num_detections] = boxes[:num_detections]\n",
        "\n",
        "    return class_probs_array, boxes_array"
      ],
      "metadata": {
        "id": "2kPsZ6qHAdVE"
      },
      "execution_count": 13,
      "outputs": []
    },
    {
      "cell_type": "code",
      "source": [
        "# Assuming you have 'input_data' and 'output_data' as your input and output data, respectively.\n",
        "# Also, 'num_classes' should be set to the number of classes in your dataset.\n",
        "\n",
        "# Preprocess input images\n",
        "preprocessed_images_valid = preprocess_input_images(images_valid)\n",
        "\n",
        "# Preprocess output data\n",
        "class_probs_array_valid, boxes_array_valid = preprocess_output_data(output_dict)\n",
        "\n"
      ],
      "metadata": {
        "id": "ExqB6HdDAdVE"
      },
      "execution_count": 14,
      "outputs": []
    },
    {
      "cell_type": "markdown",
      "source": [
        "# Model"
      ],
      "metadata": {
        "id": "NGSVSbZGAt9B"
      }
    },
    {
      "cell_type": "code",
      "source": [
        "from keras.applications import VGG16\n",
        "from keras.layers import Flatten, Dense, Dropout, Input, RepeatVector\n",
        "from keras.models import Model\n",
        "from keras.optimizers import Adam\n",
        "from keras.losses import mean_squared_error, categorical_crossentropy, binary_crossentropy\n",
        "from keras.callbacks import ModelCheckpoint, EarlyStopping, LearningRateScheduler\n",
        "import tensorflow_ranking as tfr\n",
        "\n",
        "num_classes = 3\n",
        "num_boxes = 5\n",
        "\n",
        "# Load the VGG16 network, ensuring the head FC layers are left off\n",
        "vgg = VGG16(weights=\"imagenet\", include_top=False, input_tensor=Input(shape=(224, 224, 3)))\n",
        "\n",
        "# Freeze all VGG layers so they will *not* be updated during the training process\n",
        "vgg.trainable = False\n",
        "\n",
        "# Flatten the max-pooling output of VGG\n",
        "flatten = vgg.output\n",
        "flatten = Flatten()(flatten)\n",
        "\n",
        "# Construct a fully-connected layer header to output the predicted bounding box coordinates\n",
        "bboxHead = Dense(128, activation=\"relu\")(flatten)\n",
        "bboxHead = Dense(64, activation=\"relu\")(bboxHead)\n",
        "bboxHead = Dense(32, activation=\"relu\")(bboxHead)\n",
        "bboxHead = RepeatVector(num_boxes)(bboxHead)\n",
        "bboxHead = Dense(4, activation=\"sigmoid\", name=\"regression\")(bboxHead)\n",
        "\n",
        "# Construct a second fully-connected layer head, this one to predict the class label\n",
        "softmaxHead = Dense(512, activation=\"relu\")(flatten)\n",
        "softmaxHead = Dropout(0.5)(softmaxHead)\n",
        "softmaxHead = Dense(512, activation=\"relu\")(softmaxHead)\n",
        "softmaxHead = Dropout(0.5)(softmaxHead)\n",
        "softmaxHead = RepeatVector(num_boxes)(softmaxHead)\n",
        "softmaxHead = Dense(num_classes, activation=\"softmax\", name=\"classification\")(softmaxHead)\n",
        "\n",
        "# Number of classes in your classification task (modify this based on your dataset)\n",
        "num_classes = 3\n",
        "\n",
        "# Put together our model which accepts an input image and then outputs\n",
        "# bounding box coordinates and a class label\n",
        "model = Model(inputs=vgg.input, outputs=[bboxHead, softmaxHead])\n",
        "\n",
        "# Create a mask to ignore empty boxes during loss calculation\n",
        "# Calculate the number of non-empty boxes for each sample\n",
        "num_non_empty_boxes = np.sum(np.any(class_probs_array_train != 0, axis=-1), axis=1)\n",
        "num_objects_per_image_train = num_non_empty_boxes.tolist()\n",
        "mask_train = np.zeros((len(num_objects_per_image_train), num_boxes))\n",
        "for i, num_objects in enumerate(num_objects_per_image_train):\n",
        "    mask_train[i, :num_objects] = 1\n",
        "\n",
        "from keras import backend as K\n",
        "\n",
        "\n",
        "def custom_classification_loss(y_true, y_pred):\n",
        "    # Apply a mask to ignore loss for empty boxes\n",
        "    mask = tf.reduce_sum(y_true, axis=-1) > 0\n",
        "    y_true_masked = tf.boolean_mask(y_true, mask)\n",
        "    y_pred_masked = tf.boolean_mask(y_pred, mask)\n",
        "\n",
        "    # Calculate categorical cross-entropy loss\n",
        "    loss = tf.keras.losses.categorical_crossentropy(y_true_masked, y_pred_masked)\n",
        "    return loss\n",
        "\n",
        "\n",
        "def custom_regression_loss(y_true, y_pred):\n",
        "    # Apply a mask to ignore loss for empty boxes\n",
        "    mask = tf.reduce_sum(y_true, axis=-1) > 0\n",
        "    y_true_masked = tf.boolean_mask(y_true, mask)\n",
        "    y_pred_masked = tf.boolean_mask(y_pred, mask)\n",
        "\n",
        "    # Calculate mean squared error loss for non-empty boxes\n",
        "    loss = tf.keras.losses.mean_squared_error(y_true_masked, y_pred_masked)\n",
        "    return loss\n",
        "\n",
        "\n",
        "metric = tfr.keras.metrics.MeanAveragePrecisionMetric(name=\"mean_average_precision\")\n",
        "\n",
        "\n",
        "def mean_average_precision(y_true, y_pred):\n",
        "    # Apply a mask to ignore loss for empty boxes\n",
        "    mask = tf.reduce_sum(y_true, axis=-1) > 0\n",
        "    y_true_masked = tf.boolean_mask(y_true, mask)\n",
        "    y_pred_masked = tf.boolean_mask(y_pred, mask)\n",
        "\n",
        "    # transform y_pred into 1 or 0 depending on which class has the highest probability\n",
        "    max_indices = tf.argmax(y_pred_masked, axis=1)\n",
        "    y_pred_masked = tf.one_hot(max_indices, depth=y_pred_masked.shape[1])\n",
        "\n",
        "    return metric(y_true_masked, y_pred_masked)\n",
        "\n",
        "\n",
        "def custom_regression_metric(y_true, y_pred):\n",
        "    # Apply a mask to ignore loss for empty boxes\n",
        "    mask = tf.reduce_sum(y_true, axis=-1) > 0\n",
        "    y_true_masked = tf.boolean_mask(y_true, mask)\n",
        "    y_pred_masked = tf.boolean_mask(y_pred, mask)\n",
        "\n",
        "    # Calculate mean squared error loss for non-empty boxes\n",
        "    loss = tf.keras.metrics.mean_squared_error(y_true_masked, y_pred_masked)\n",
        "    return loss\n",
        "\n",
        "\n",
        "# Add callbacks: checkpoint and early stopping\n",
        "early_stopping = EarlyStopping(monitor='classification_mean_average_precision', min_delta=0, patience=20, verbose=1, mode='auto')\n",
        "lr_scheduler = LearningRateScheduler(exponential_decay)\n",
        "\n",
        "# Compile the model\n",
        "# model.compile(optimizer=Adam(learning_rate=0.00000001), loss=losses, metrics=['accuracy'], loss_weights=loss_weights)\n",
        "model.compile(optimizer=Adam(learning_rate=0.00000001),\n",
        "              loss={'regression': custom_regression_loss, 'classification': custom_classification_loss},\n",
        "              metrics={'regression': custom_regression_metric, 'classification': mean_average_precision})\n",
        "\n",
        "# Start the training process\n",
        "history = model.fit(preprocessed_images_train, {'regression': boxes_array_train, 'classification': class_probs_array_train},\n",
        "                    validation_data = [preprocessed_images_valid, {'regression': boxes_array_valid, 'classification': class_probs_array_valid}],\n",
        "                    batch_size=32, epochs=5, callbacks=[early_stopping])\n"
      ],
      "metadata": {
        "colab": {
          "base_uri": "https://localhost:8080/"
        },
        "id": "XVpZoKBvY-6j",
        "outputId": "5ce7fba5-6cb5-4316-dfa2-0aebe31a7036"
      },
      "execution_count": 15,
      "outputs": [
        {
          "output_type": "stream",
          "name": "stdout",
          "text": [
            "Epoch 1/5\n",
            "190/190 [==============================] - 58s 213ms/step - loss: 1.4681 - regression_loss: 0.0736 - classification_loss: 1.3945 - regression_custom_regression_metric: 0.0737 - classification_mean_average_precision: 0.6312 - val_loss: 1.1983 - val_regression_loss: 0.0730 - val_classification_loss: 1.1253 - val_regression_custom_regression_metric: 0.0732 - val_classification_mean_average_precision: 0.6326\n",
            "Epoch 2/5\n",
            "190/190 [==============================] - 36s 188ms/step - loss: 1.4728 - regression_loss: 0.0731 - classification_loss: 1.3997 - regression_custom_regression_metric: 0.0731 - classification_mean_average_precision: 0.6328 - val_loss: 1.1941 - val_regression_loss: 0.0725 - val_classification_loss: 1.1217 - val_regression_custom_regression_metric: 0.0726 - val_classification_mean_average_precision: 0.6322\n",
            "Epoch 3/5\n",
            "190/190 [==============================] - 36s 188ms/step - loss: 1.4651 - regression_loss: 0.0727 - classification_loss: 1.3924 - regression_custom_regression_metric: 0.0725 - classification_mean_average_precision: 0.6338 - val_loss: 1.1902 - val_regression_loss: 0.0719 - val_classification_loss: 1.1183 - val_regression_custom_regression_metric: 0.0721 - val_classification_mean_average_precision: 0.6339\n",
            "Epoch 4/5\n",
            "190/190 [==============================] - 35s 186ms/step - loss: 1.4537 - regression_loss: 0.0719 - classification_loss: 1.3818 - regression_custom_regression_metric: 0.0719 - classification_mean_average_precision: 0.6340 - val_loss: 1.1866 - val_regression_loss: 0.0713 - val_classification_loss: 1.1152 - val_regression_custom_regression_metric: 0.0715 - val_classification_mean_average_precision: 0.6346\n",
            "Epoch 5/5\n",
            "190/190 [==============================] - 36s 188ms/step - loss: 1.4589 - regression_loss: 0.0715 - classification_loss: 1.3874 - regression_custom_regression_metric: 0.0714 - classification_mean_average_precision: 0.6349 - val_loss: 1.1830 - val_regression_loss: 0.0708 - val_classification_loss: 1.1122 - val_regression_custom_regression_metric: 0.0710 - val_classification_mean_average_precision: 0.6347\n"
          ]
        }
      ]
    },
    {
      "cell_type": "code",
      "source": [
        "import matplotlib.pyplot as plt\n",
        "\n",
        "# Get the average precision values for training and validation\n",
        "train_avg_precision = history.history['classification_mean_average_precision']\n",
        "val_avg_precision = history.history['val_classification_mean_average_precision']\n",
        "\n",
        "# Plot the average precision values\n",
        "epochs = range(1, len(train_avg_precision) + 1)\n",
        "\n",
        "plt.plot(epochs, train_avg_precision, 'b', label='Training Mean Avg Precision')\n",
        "plt.plot(epochs, val_avg_precision, 'r', label='Validation Mean Avg Precision')\n",
        "plt.title('Training and Validation Mean Average Precision')\n",
        "plt.xlabel('Epochs')\n",
        "plt.ylabel('Mean Average Precision')\n",
        "plt.legend()\n",
        "plt.show()\n"
      ],
      "metadata": {
        "colab": {
          "base_uri": "https://localhost:8080/",
          "height": 472
        },
        "id": "BxZpkYvGEPra",
        "outputId": "4a3e53d0-26e0-4f7d-dbee-55dc554fbe07"
      },
      "execution_count": 16,
      "outputs": [
        {
          "output_type": "display_data",
          "data": {
            "text/plain": [
              "<Figure size 640x480 with 1 Axes>"
            ],
            "image/png": "[encoded data removed]"
          },
          "metadata": {}
        }
      ]
    }
  ]
}